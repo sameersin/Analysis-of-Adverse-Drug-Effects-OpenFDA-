{
 "cells": [
  {
   "cell_type": "code",
   "execution_count": 23,
   "id": "2ede3802-3c0f-434f-a037-af3f9919288e",
   "metadata": {},
   "outputs": [
    {
     "name": "stdout",
     "output_type": "stream",
     "text": [
      "Starting conversion process...\n",
      "Reading JSON files and collecting fields...\n"
     ]
    },
    {
     "name": "stderr",
     "output_type": "stream",
     "text": [
      "100%|████████████████████████████████████████████████████████████████████████████████████| 5/5 [00:25<00:00,  5.10s/it]\n"
     ]
    },
    {
     "name": "stdout",
     "output_type": "stream",
     "text": [
      "Total records collected: 54038\n",
      "Total unique fields: 80\n",
      "Converting to DataFrame...\n",
      "Saving to fda_data/2004q3_combined.csv...\n",
      "\n",
      "Dataset Statistics:\n",
      "Total rows: 54038\n",
      "Total columns: 80\n",
      "\n",
      "Sample columns:\n",
      "safetyreportid: 54038 non-null values (100.0% complete)\n",
      "transmissiondateformat: 54038 non-null values (100.0% complete)\n",
      "transmissiondate: 54038 non-null values (100.0% complete)\n",
      "serious: 54038 non-null values (100.0% complete)\n",
      "receivedateformat: 54038 non-null values (100.0% complete)\n",
      "receivedate: 54038 non-null values (100.0% complete)\n",
      "receiptdateformat: 54038 non-null values (100.0% complete)\n",
      "receiptdate: 54038 non-null values (100.0% complete)\n",
      "fulfillexpeditecriteria: 54038 non-null values (100.0% complete)\n",
      "companynumb: 48750 non-null values (90.2% complete)\n",
      "\n",
      "Conversion complete. Output saved to: fda_data/2004q3_combined.csv\n"
     ]
    }
   ],
   "source": [
    "import json\n",
    "import csv\n",
    "import os\n",
    "import pandas as pd\n",
    "from tqdm import tqdm\n",
    "\n",
    "def flatten_dict(d, parent_key='', sep='_'):\n",
    "    \"\"\"\n",
    "    Flatten nested dictionaries, creating composite keys with separator\n",
    "    \"\"\"\n",
    "    items = []\n",
    "    for k, v in d.items():\n",
    "        new_key = f\"{parent_key}{sep}{k}\" if parent_key else k\n",
    "        if isinstance(v, dict):\n",
    "            items.extend(flatten_dict(v, new_key, sep=sep).items())\n",
    "        elif isinstance(v, list):\n",
    "            # Handle lists by joining elements with a semicolon\n",
    "            if all(isinstance(x, (str, int, float)) for x in v):\n",
    "                items.append((new_key, ';'.join(str(x) for x in v)))\n",
    "            elif len(v) > 0 and isinstance(v[0], dict):\n",
    "                # For list of dictionaries, take the first one\n",
    "                items.extend(flatten_dict(v[0], new_key, sep=sep).items())\n",
    "            else:\n",
    "                items.append((new_key, str(v)))\n",
    "        else:\n",
    "            items.append((new_key, v))\n",
    "    return dict(items)\n",
    "\n",
    "def process_json_files(input_dir, output_file):\n",
    "    \"\"\"\n",
    "    Process all JSON files in the input directory and create a single CSV file\n",
    "    \"\"\"\n",
    "    # Get list of JSON files\n",
    "    json_files = [f for f in os.listdir(input_dir) if f.endswith('.json')]\n",
    "    all_records = []\n",
    "    all_keys = set()\n",
    "    \n",
    "    print(\"Reading JSON files and collecting fields...\")\n",
    "    # First pass: collect all possible fields\n",
    "    for json_file in tqdm(json_files):\n",
    "        file_path = os.path.join(input_dir, json_file)\n",
    "        with open(file_path, 'r') as f:\n",
    "            data = json.load(f)\n",
    "            if 'results' in data:\n",
    "                for record in data['results']:\n",
    "                    flat_record = flatten_dict(record)\n",
    "                    all_keys.update(flat_record.keys())\n",
    "                    all_records.append(flat_record)\n",
    "    \n",
    "    print(f\"Total records collected: {len(all_records)}\")\n",
    "    print(f\"Total unique fields: {len(all_keys)}\")\n",
    "    \n",
    "    # Convert to DataFrame\n",
    "    print(\"Converting to DataFrame...\")\n",
    "    df = pd.DataFrame(all_records)\n",
    "    \n",
    "    # Basic data cleaning\n",
    "    df = df.replace({None: pd.NA, \"\": pd.NA})\n",
    "    \n",
    "    # Save to CSV\n",
    "    print(f\"Saving to {output_file}...\")\n",
    "    df.to_csv(output_file, index=False)\n",
    "    \n",
    "    # Print some basic statistics\n",
    "    print(\"\\nDataset Statistics:\")\n",
    "    print(f\"Total rows: {len(df)}\")\n",
    "    print(f\"Total columns: {len(df.columns)}\")\n",
    "    print(\"\\nSample columns:\")\n",
    "    for col in list(df.columns)[:10]:\n",
    "        non_null = df[col].count()\n",
    "        print(f\"{col}: {non_null} non-null values ({(non_null/len(df))*100:.1f}% complete)\")\n",
    "    \n",
    "    return df\n",
    "\n",
    "# Process all files\n",
    "input_dir = \"fda_data/2004q3\"\n",
    "output_file = \"fda_data/2004q3_combined.csv\"\n",
    "\n",
    "print(\"Starting conversion process...\")\n",
    "df = process_json_files(input_dir, output_file)\n",
    "print(f\"\\nConversion complete. Output saved to: {output_file}\")"
   ]
  },
  {
   "cell_type": "code",
   "execution_count": 31,
   "id": "9eb373d0-084e-400b-a9e4-3a9656d2a904",
   "metadata": {},
   "outputs": [
    {
     "name": "stderr",
     "output_type": "stream",
     "text": [
      "C:\\Users\\samee\\AppData\\Local\\Temp\\ipykernel_2056\\53358210.py:5: DtypeWarning: Columns (60,61,64,65,68,73,74,75) have mixed types. Specify dtype option on import or set low_memory=False.\n",
      "  df = pd.read_csv(file_path)\n"
     ]
    },
    {
     "name": "stdout",
     "output_type": "stream",
     "text": [
      "Basic Info:\n",
      "<class 'pandas.core.frame.DataFrame'>\n",
      "RangeIndex: 54038 entries, 0 to 54037\n",
      "Data columns (total 80 columns):\n",
      " #   Column                                            Non-Null Count  Dtype  \n",
      "---  ------                                            --------------  -----  \n",
      " 0   safetyreportid                                    54038 non-null  object \n",
      " 1   transmissiondateformat                            54038 non-null  int64  \n",
      " 2   transmissiondate                                  54038 non-null  int64  \n",
      " 3   serious                                           54038 non-null  int64  \n",
      " 4   receivedateformat                                 54038 non-null  int64  \n",
      " 5   receivedate                                       54038 non-null  int64  \n",
      " 6   receiptdateformat                                 54038 non-null  int64  \n",
      " 7   receiptdate                                       54038 non-null  int64  \n",
      " 8   fulfillexpeditecriteria                           54038 non-null  int64  \n",
      " 9   companynumb                                       48750 non-null  object \n",
      " 10  primarysource_reportercountry                     4193 non-null   object \n",
      " 11  primarysource_qualification                       39864 non-null  float64\n",
      " 12  sender_senderorganization                         54038 non-null  object \n",
      " 13  receiver                                          0 non-null      float64\n",
      " 14  patient_patientsex                                50820 non-null  float64\n",
      " 15  patient_reaction_reactionmeddrapt                 54038 non-null  object \n",
      " 16  patient_drug_drugcharacterization                 54038 non-null  int64  \n",
      " 17  patient_drug_medicinalproduct                     54038 non-null  object \n",
      " 18  patient_drug_drugbatchnumb                        7246 non-null   object \n",
      " 19  patient_drug_drugauthorizationnumb                31541 non-null  float64\n",
      " 20  patient_drug_drugindication                       41890 non-null  object \n",
      " 21  patient_drug_openfda_application_number           37672 non-null  object \n",
      " 22  patient_drug_openfda_brand_name                   37721 non-null  object \n",
      " 23  patient_drug_openfda_generic_name                 37721 non-null  object \n",
      " 24  patient_drug_openfda_manufacturer_name            37721 non-null  object \n",
      " 25  patient_drug_openfda_product_ndc                  37721 non-null  object \n",
      " 26  patient_drug_openfda_product_type                 37721 non-null  object \n",
      " 27  patient_drug_openfda_route                        35598 non-null  object \n",
      " 28  patient_drug_openfda_substance_name               35570 non-null  object \n",
      " 29  patient_drug_openfda_rxcui                        37383 non-null  object \n",
      " 30  patient_drug_openfda_spl_id                       37721 non-null  object \n",
      " 31  patient_drug_openfda_spl_set_id                   37721 non-null  object \n",
      " 32  patient_drug_openfda_package_ndc                  37721 non-null  object \n",
      " 33  patient_drug_openfda_unii                         35570 non-null  object \n",
      " 34  seriousnesslifethreatening                        2729 non-null   float64\n",
      " 35  patient_drug_drugstartdateformat                  32196 non-null  float64\n",
      " 36  patient_drug_drugstartdate                        32196 non-null  float64\n",
      " 37  patient_drug_openfda_nui                          20075 non-null  object \n",
      " 38  patient_drug_openfda_pharm_class_epc              18223 non-null  object \n",
      " 39  patient_drug_openfda_pharm_class_cs               8542 non-null   object \n",
      " 40  patient_drug_openfda_pharm_class_pe               4809 non-null   object \n",
      " 41  seriousnesshospitalization                        15588 non-null  float64\n",
      " 42  seriousnessother                                  16488 non-null  float64\n",
      " 43  patient_patientonsetage                           37939 non-null  float64\n",
      " 44  patient_patientonsetageunit                       37937 non-null  float64\n",
      " 45  patient_drug_drugdosagetext                       37448 non-null  object \n",
      " 46  patient_drug_drugadministrationroute              37086 non-null  float64\n",
      " 47  patient_drug_drugenddateformat                    18936 non-null  float64\n",
      " 48  patient_drug_drugenddate                          18936 non-null  float64\n",
      " 49  patient_drug_openfda_pharm_class_moa              9856 non-null   object \n",
      " 50  patient_patientweight                             18153 non-null  float64\n",
      " 51  seriousnessdeath                                  6273 non-null   float64\n",
      " 52  patient_drug_drugtreatmentduration                6065 non-null   float64\n",
      " 53  patient_drug_drugtreatmentdurationunit            4596 non-null   float64\n",
      " 54  seriousnessdisabling                              1684 non-null   float64\n",
      " 55  primarysource                                     0 non-null      float64\n",
      " 56  patient_patientdeath_patientdeathdateformat       0 non-null      float64\n",
      " 57  patient_patientdeath_patientdeathdate             0 non-null      float64\n",
      " 58  seriousnesscongenitalanomali                      239 non-null    float64\n",
      " 59  safetyreportversion                               26 non-null     float64\n",
      " 60  primarysourcecountry                              26 non-null     object \n",
      " 61  occurcountry                                      25 non-null     object \n",
      " 62  reporttype                                        26 non-null     float64\n",
      " 63  duplicate                                         25 non-null     float64\n",
      " 64  reportduplicate_duplicatesource                   25 non-null     object \n",
      " 65  reportduplicate_duplicatenumb                     25 non-null     object \n",
      " 66  sender_sendertype                                 26 non-null     float64\n",
      " 67  receiver_receivertype                             26 non-null     float64\n",
      " 68  receiver_receiverorganization                     26 non-null     object \n",
      " 69  patient_patientagegroup                           25 non-null     float64\n",
      " 70  patient_reaction_reactionmeddraversionpt          26 non-null     float64\n",
      " 71  patient_drug_drugstructuredosagenumb              12 non-null     float64\n",
      " 72  patient_drug_drugstructuredosageunit              11 non-null     float64\n",
      " 73  patient_drug_drugdosageform                       21 non-null     object \n",
      " 74  patient_drug_activesubstance_activesubstancename  25 non-null     object \n",
      " 75  patient_summary_narrativeincludeclinical          24 non-null     object \n",
      " 76  patient_drug_actiondrug                           20 non-null     float64\n",
      " 77  patient_drug_drugadditional                       13 non-null     float64\n",
      " 78  patient_reaction_reactionoutcome                  7 non-null      float64\n",
      " 79  patient_drug_drugrecurreadministration            10 non-null     float64\n",
      "dtypes: float64(36), int64(9), object(35)\n",
      "memory usage: 33.0+ MB\n",
      "None\n",
      "\n",
      "First Few Rows:\n",
      "  safetyreportid  transmissiondateformat  transmissiondate  serious  \\\n",
      "0      5855304-2                     102          20090109        2   \n",
      "1      7544009-8                     102          20111010        1   \n",
      "2      6466056-X                     102          20100525        1   \n",
      "3      5423760-X                     102          20080115        1   \n",
      "4      6891404-6                     102          20110219        1   \n",
      "\n",
      "   receivedateformat  receivedate  receiptdateformat  receiptdate  \\\n",
      "0                102     20080822                102     20040810   \n",
      "1                102     20110613                102     20040914   \n",
      "2                102     20091202                102     20040723   \n",
      "3                102     20070727                102     20040916   \n",
      "4                102     20100731                102     20040827   \n",
      "\n",
      "   fulfillexpeditecriteria                   companynumb  ...  \\\n",
      "0                        2  US-ABBOTT-08P-163-0466804-00  ...   \n",
      "1                        1               PHHO1998ES01067  ...   \n",
      "2                        1         NL-JNJFOC-20091108039  ...   \n",
      "3                        2                    THYM-10289  ...   \n",
      "4                        2      US-PFIZER INC-2004042397  ...   \n",
      "\n",
      "  patient_reaction_reactionmeddraversionpt  \\\n",
      "0                                      NaN   \n",
      "1                                      NaN   \n",
      "2                                      NaN   \n",
      "3                                      NaN   \n",
      "4                                      NaN   \n",
      "\n",
      "   patient_drug_drugstructuredosagenumb patient_drug_drugstructuredosageunit  \\\n",
      "0                                   NaN                                  NaN   \n",
      "1                                   NaN                                  NaN   \n",
      "2                                   NaN                                  NaN   \n",
      "3                                   NaN                                  NaN   \n",
      "4                                   NaN                                  NaN   \n",
      "\n",
      "   patient_drug_drugdosageform  \\\n",
      "0                          NaN   \n",
      "1                          NaN   \n",
      "2                          NaN   \n",
      "3                          NaN   \n",
      "4                          NaN   \n",
      "\n",
      "   patient_drug_activesubstance_activesubstancename  \\\n",
      "0                                               NaN   \n",
      "1                                               NaN   \n",
      "2                                               NaN   \n",
      "3                                               NaN   \n",
      "4                                               NaN   \n",
      "\n",
      "  patient_summary_narrativeincludeclinical  patient_drug_actiondrug  \\\n",
      "0                                      NaN                      NaN   \n",
      "1                                      NaN                      NaN   \n",
      "2                                      NaN                      NaN   \n",
      "3                                      NaN                      NaN   \n",
      "4                                      NaN                      NaN   \n",
      "\n",
      "  patient_drug_drugadditional patient_reaction_reactionoutcome  \\\n",
      "0                         NaN                              NaN   \n",
      "1                         NaN                              NaN   \n",
      "2                         NaN                              NaN   \n",
      "3                         NaN                              NaN   \n",
      "4                         NaN                              NaN   \n",
      "\n",
      "   patient_drug_drugrecurreadministration  \n",
      "0                                     NaN  \n",
      "1                                     NaN  \n",
      "2                                     NaN  \n",
      "3                                     NaN  \n",
      "4                                     NaN  \n",
      "\n",
      "[5 rows x 80 columns]\n",
      "\n",
      "Summary Statistics (Numerical Columns):\n",
      "       transmissiondateformat  transmissiondate       serious  \\\n",
      "count                 54038.0      5.403800e+04  54038.000000   \n",
      "mean                    102.0      2.005155e+07      1.337947   \n",
      "std                       0.0      6.233949e+03      0.473015   \n",
      "min                     102.0      2.004113e+07      1.000000   \n",
      "25%                     102.0      2.005021e+07      1.000000   \n",
      "50%                     102.0      2.005021e+07      1.000000   \n",
      "75%                     102.0      2.005033e+07      2.000000   \n",
      "max                     102.0      2.020110e+07      2.000000   \n",
      "\n",
      "       receivedateformat   receivedate  receiptdateformat   receiptdate  \\\n",
      "count            54038.0  5.403800e+04            54038.0  5.403800e+04   \n",
      "mean               102.0  2.004330e+07              102.0  2.004082e+07   \n",
      "std                  0.0  6.414144e+03                0.0  8.260968e+01   \n",
      "min                102.0  2.001092e+07              102.0  2.004070e+07   \n",
      "25%                102.0  2.004082e+07              102.0  2.004072e+07   \n",
      "50%                102.0  2.004092e+07              102.0  2.004082e+07   \n",
      "75%                102.0  2.004122e+07              102.0  2.004091e+07   \n",
      "max                102.0  2.012080e+07              102.0  2.004093e+07   \n",
      "\n",
      "       fulfillexpeditecriteria  primarysource_qualification  receiver  ...  \\\n",
      "count             54038.000000                 39864.000000       0.0  ...   \n",
      "mean                  1.514416                     2.781607       NaN  ...   \n",
      "std                   0.499834                     1.664725       NaN  ...   \n",
      "min                   1.000000                     1.000000       NaN  ...   \n",
      "25%                   1.000000                     1.000000       NaN  ...   \n",
      "50%                   2.000000                     3.000000       NaN  ...   \n",
      "75%                   2.000000                     5.000000       NaN  ...   \n",
      "max                   3.000000                     5.000000       NaN  ...   \n",
      "\n",
      "       sender_sendertype  receiver_receivertype  patient_patientagegroup  \\\n",
      "count               26.0                   26.0                25.000000   \n",
      "mean                 2.0                    6.0                 5.440000   \n",
      "std                  0.0                    0.0                 0.506623   \n",
      "min                  2.0                    6.0                 5.000000   \n",
      "25%                  2.0                    6.0                 5.000000   \n",
      "50%                  2.0                    6.0                 5.000000   \n",
      "75%                  2.0                    6.0                 6.000000   \n",
      "max                  2.0                    6.0                 6.000000   \n",
      "\n",
      "       patient_reaction_reactionmeddraversionpt  \\\n",
      "count                              2.600000e+01   \n",
      "mean                               2.310000e+01   \n",
      "std                                7.246143e-15   \n",
      "min                                2.310000e+01   \n",
      "25%                                2.310000e+01   \n",
      "50%                                2.310000e+01   \n",
      "75%                                2.310000e+01   \n",
      "max                                2.310000e+01   \n",
      "\n",
      "       patient_drug_drugstructuredosagenumb  \\\n",
      "count                             12.000000   \n",
      "mean                              84.416667   \n",
      "std                              101.377296   \n",
      "min                                1.000000   \n",
      "25%                                5.000000   \n",
      "50%                               20.000000   \n",
      "75%                              168.000000   \n",
      "max                              250.000000   \n",
      "\n",
      "       patient_drug_drugstructuredosageunit  patient_drug_actiondrug  \\\n",
      "count                             11.000000                20.000000   \n",
      "mean                               6.454545                 2.600000   \n",
      "std                                6.455442                 2.062191   \n",
      "min                                3.000000                 1.000000   \n",
      "25%                                3.000000                 1.000000   \n",
      "50%                                3.000000                 1.000000   \n",
      "75%                                7.000000                 5.000000   \n",
      "max                               25.000000                 6.000000   \n",
      "\n",
      "       patient_drug_drugadditional  patient_reaction_reactionoutcome  \\\n",
      "count                    13.000000                          7.000000   \n",
      "mean                      1.769231                          2.142857   \n",
      "std                       0.926809                          1.573592   \n",
      "min                       1.000000                          1.000000   \n",
      "25%                       1.000000                          1.000000   \n",
      "50%                       1.000000                          1.000000   \n",
      "75%                       3.000000                          3.000000   \n",
      "max                       3.000000                          5.000000   \n",
      "\n",
      "       patient_drug_drugrecurreadministration  \n",
      "count                               10.000000  \n",
      "mean                                 2.300000  \n",
      "std                                  0.483046  \n",
      "min                                  2.000000  \n",
      "25%                                  2.000000  \n",
      "50%                                  2.000000  \n",
      "75%                                  2.750000  \n",
      "max                                  3.000000  \n",
      "\n",
      "[8 rows x 45 columns]\n",
      "\n",
      "Missing Values:\n",
      "companynumb                                  5288\n",
      "primarysource_reportercountry               49845\n",
      "primarysource_qualification                 14174\n",
      "receiver                                    54038\n",
      "patient_patientsex                           3218\n",
      "                                            ...  \n",
      "patient_summary_narrativeincludeclinical    54014\n",
      "patient_drug_actiondrug                     54018\n",
      "patient_drug_drugadditional                 54025\n",
      "patient_reaction_reactionoutcome            54031\n",
      "patient_drug_drugrecurreadministration      54028\n",
      "Length: 67, dtype: int64\n",
      "\n",
      "Unique Values in Each Column:\n",
      "safetyreportid                              54000\n",
      "transmissiondateformat                          1\n",
      "transmissiondate                               36\n",
      "serious                                         2\n",
      "receivedateformat                               1\n",
      "                                            ...  \n",
      "patient_summary_narrativeincludeclinical       24\n",
      "patient_drug_actiondrug                         4\n",
      "patient_drug_drugadditional                     3\n",
      "patient_reaction_reactionoutcome                3\n",
      "patient_drug_drugrecurreadministration          2\n",
      "Length: 80, dtype: int64\n",
      "\n",
      "Column Names:\n",
      "Index(['safetyreportid', 'transmissiondateformat', 'transmissiondate',\n",
      "       'serious', 'receivedateformat', 'receivedate', 'receiptdateformat',\n",
      "       'receiptdate', 'fulfillexpeditecriteria', 'companynumb',\n",
      "       'primarysource_reportercountry', 'primarysource_qualification',\n",
      "       'sender_senderorganization', 'receiver', 'patient_patientsex',\n",
      "       'patient_reaction_reactionmeddrapt',\n",
      "       'patient_drug_drugcharacterization', 'patient_drug_medicinalproduct',\n",
      "       'patient_drug_drugbatchnumb', 'patient_drug_drugauthorizationnumb',\n",
      "       'patient_drug_drugindication',\n",
      "       'patient_drug_openfda_application_number',\n",
      "       'patient_drug_openfda_brand_name', 'patient_drug_openfda_generic_name',\n",
      "       'patient_drug_openfda_manufacturer_name',\n",
      "       'patient_drug_openfda_product_ndc', 'patient_drug_openfda_product_type',\n",
      "       'patient_drug_openfda_route', 'patient_drug_openfda_substance_name',\n",
      "       'patient_drug_openfda_rxcui', 'patient_drug_openfda_spl_id',\n",
      "       'patient_drug_openfda_spl_set_id', 'patient_drug_openfda_package_ndc',\n",
      "       'patient_drug_openfda_unii', 'seriousnesslifethreatening',\n",
      "       'patient_drug_drugstartdateformat', 'patient_drug_drugstartdate',\n",
      "       'patient_drug_openfda_nui', 'patient_drug_openfda_pharm_class_epc',\n",
      "       'patient_drug_openfda_pharm_class_cs',\n",
      "       'patient_drug_openfda_pharm_class_pe', 'seriousnesshospitalization',\n",
      "       'seriousnessother', 'patient_patientonsetage',\n",
      "       'patient_patientonsetageunit', 'patient_drug_drugdosagetext',\n",
      "       'patient_drug_drugadministrationroute',\n",
      "       'patient_drug_drugenddateformat', 'patient_drug_drugenddate',\n",
      "       'patient_drug_openfda_pharm_class_moa', 'patient_patientweight',\n",
      "       'seriousnessdeath', 'patient_drug_drugtreatmentduration',\n",
      "       'patient_drug_drugtreatmentdurationunit', 'seriousnessdisabling',\n",
      "       'primarysource', 'patient_patientdeath_patientdeathdateformat',\n",
      "       'patient_patientdeath_patientdeathdate', 'seriousnesscongenitalanomali',\n",
      "       'safetyreportversion', 'primarysourcecountry', 'occurcountry',\n",
      "       'reporttype', 'duplicate', 'reportduplicate_duplicatesource',\n",
      "       'reportduplicate_duplicatenumb', 'sender_sendertype',\n",
      "       'receiver_receivertype', 'receiver_receiverorganization',\n",
      "       'patient_patientagegroup', 'patient_reaction_reactionmeddraversionpt',\n",
      "       'patient_drug_drugstructuredosagenumb',\n",
      "       'patient_drug_drugstructuredosageunit', 'patient_drug_drugdosageform',\n",
      "       'patient_drug_activesubstance_activesubstancename',\n",
      "       'patient_summary_narrativeincludeclinical', 'patient_drug_actiondrug',\n",
      "       'patient_drug_drugadditional', 'patient_reaction_reactionoutcome',\n",
      "       'patient_drug_drugrecurreadministration'],\n",
      "      dtype='object')\n",
      "\n",
      "Categorical Data Distribution (Top 5 Columns):\n",
      "\n",
      "safetyreportid Value Counts:\n",
      "safetyreportid\n",
      "4485233-0    2\n",
      "4555791-6    2\n",
      "4428296-0    2\n",
      "4439966-2    2\n",
      "4550321-7    2\n",
      "Name: count, dtype: int64\n",
      "\n",
      "companynumb Value Counts:\n",
      "companynumb\n",
      "CH-BRISTOL-MYERS SQUIBB COMPANY-12684429    4\n",
      "2004-BP-07731AU                             3\n",
      "ZA-MERCK-0409ZAF00009                       3\n",
      "2004-BP-05565BP                             3\n",
      "USA040774026                                2\n",
      "Name: count, dtype: int64\n",
      "\n",
      "primarysource_reportercountry Value Counts:\n",
      "primarysource_reportercountry\n",
      "UNITED STATES     3555\n",
      "UNITED KINGDOM     131\n",
      "JAPAN              100\n",
      "FRANCE              74\n",
      "GERMANY             66\n",
      "Name: count, dtype: int64\n",
      "\n",
      "sender_senderorganization Value Counts:\n",
      "sender_senderorganization\n",
      "FDA-Public Use    54038\n",
      "Name: count, dtype: int64\n",
      "\n",
      "patient_reaction_reactionmeddrapt Value Counts:\n",
      "patient_reaction_reactionmeddrapt\n",
      "DEATH                   1582\n",
      "DRUG INEFFECTIVE        1354\n",
      "BREAST CANCER FEMALE    1106\n",
      "ASTHENIA                 909\n",
      "ABDOMINAL PAIN           741\n",
      "Name: count, dtype: int64\n"
     ]
    }
   ],
   "source": [
    "import pandas as pd\n",
    "\n",
    "# Load the data\n",
    "file_path = 'fda_data/2004q3_combined.csv'  # Update with your actual path\n",
    "df = pd.read_csv(file_path)\n",
    "\n",
    "# Display basic information about the data\n",
    "print(\"Basic Info:\")\n",
    "print(df.info())\n",
    "\n",
    "# Show the first few rows\n",
    "print(\"\\nFirst Few Rows:\")\n",
    "print(df.head())\n",
    "\n",
    "# Get summary statistics for numerical columns\n",
    "print(\"\\nSummary Statistics (Numerical Columns):\")\n",
    "print(df.describe())\n",
    "\n",
    "# Check for missing values\n",
    "print(\"\\nMissing Values:\")\n",
    "missing_values = df.isnull().sum()\n",
    "print(missing_values[missing_values > 0])\n",
    "\n",
    "# Count unique values in each column\n",
    "print(\"\\nUnique Values in Each Column:\")\n",
    "unique_counts = df.nunique()\n",
    "print(unique_counts)\n",
    "\n",
    "# Check column names\n",
    "print(\"\\nColumn Names:\")\n",
    "print(df.columns)\n",
    "\n",
    "# Sample categorical data distribution for non-numerical columns\n",
    "print(\"\\nCategorical Data Distribution (Top 5 Columns):\")\n",
    "for col in df.select_dtypes(include=['object']).columns[:5]:  # Adjust the number as needed\n",
    "    print(f\"\\n{col} Value Counts:\")\n",
    "    print(df[col].value_counts().head())\n"
   ]
  },
  {
   "cell_type": "code",
   "execution_count": 30,
   "id": "5b12c0fd-2692-47b7-9d16-75bf4304514a",
   "metadata": {},
   "outputs": [
    {
     "name": "stdout",
     "output_type": "stream",
     "text": [
      "\n",
      "Processing 2024q1...\n"
     ]
    },
    {
     "name": "stderr",
     "output_type": "stream",
     "text": [
      "Downloading and extracting:   0%|                                                               | 0/30 [00:00<?, ?it/s]"
     ]
    },
    {
     "name": "stdout",
     "output_type": "stream",
     "text": [
      "Successfully converted drug-event-0001-of-0030.json to CSV\n"
     ]
    },
    {
     "name": "stderr",
     "output_type": "stream",
     "text": [
      "Downloading and extracting:   3%|█▋                                                  | 1/30 [02:47<1:20:51, 167.30s/it]"
     ]
    },
    {
     "name": "stdout",
     "output_type": "stream",
     "text": [
      "Successfully converted drug-event-0002-of-0030.json to CSV\n"
     ]
    },
    {
     "name": "stderr",
     "output_type": "stream",
     "text": [
      "Downloading and extracting:   7%|███▌                                                  | 2/30 [03:42<47:20, 101.46s/it]"
     ]
    },
    {
     "name": "stdout",
     "output_type": "stream",
     "text": [
      "Successfully converted drug-event-0003-of-0030.json to CSV\n"
     ]
    },
    {
     "name": "stderr",
     "output_type": "stream",
     "text": [
      "Downloading and extracting:  10%|█████▌                                                 | 3/30 [04:43<37:21, 83.03s/it]"
     ]
    },
    {
     "name": "stdout",
     "output_type": "stream",
     "text": [
      "Successfully converted drug-event-0004-of-0030.json to CSV\n"
     ]
    },
    {
     "name": "stderr",
     "output_type": "stream",
     "text": [
      "Downloading and extracting:  13%|███████▎                                               | 4/30 [05:42<31:50, 73.49s/it]"
     ]
    },
    {
     "name": "stdout",
     "output_type": "stream",
     "text": [
      "Successfully converted drug-event-0005-of-0030.json to CSV\n"
     ]
    },
    {
     "name": "stderr",
     "output_type": "stream",
     "text": [
      "Downloading and extracting:  17%|█████████▏                                             | 5/30 [06:09<23:36, 56.65s/it]"
     ]
    },
    {
     "name": "stdout",
     "output_type": "stream",
     "text": [
      "Successfully converted drug-event-0006-of-0030.json to CSV\n"
     ]
    },
    {
     "name": "stderr",
     "output_type": "stream",
     "text": [
      "Downloading and extracting:  20%|███████████                                            | 6/30 [06:23<16:53, 42.22s/it]"
     ]
    },
    {
     "name": "stdout",
     "output_type": "stream",
     "text": [
      "Successfully converted drug-event-0007-of-0030.json to CSV\n"
     ]
    },
    {
     "name": "stderr",
     "output_type": "stream",
     "text": [
      "Downloading and extracting:  23%|████████████▊                                          | 7/30 [06:31<11:51, 30.95s/it]"
     ]
    },
    {
     "name": "stdout",
     "output_type": "stream",
     "text": [
      "Successfully converted drug-event-0008-of-0030.json to CSV\n"
     ]
    },
    {
     "name": "stderr",
     "output_type": "stream",
     "text": [
      "Downloading and extracting:  27%|██████████████▋                                        | 8/30 [06:45<09:20, 25.48s/it]"
     ]
    },
    {
     "name": "stdout",
     "output_type": "stream",
     "text": [
      "Successfully converted drug-event-0009-of-0030.json to CSV\n"
     ]
    },
    {
     "name": "stderr",
     "output_type": "stream",
     "text": [
      "Downloading and extracting:  30%|████████████████▌                                      | 9/30 [06:57<07:30, 21.48s/it]"
     ]
    },
    {
     "name": "stdout",
     "output_type": "stream",
     "text": [
      "Successfully converted drug-event-0010-of-0030.json to CSV\n"
     ]
    },
    {
     "name": "stderr",
     "output_type": "stream",
     "text": [
      "Downloading and extracting:  33%|██████████████████                                    | 10/30 [07:06<05:50, 17.53s/it]"
     ]
    },
    {
     "name": "stdout",
     "output_type": "stream",
     "text": [
      "Successfully converted drug-event-0011-of-0030.json to CSV\n"
     ]
    },
    {
     "name": "stderr",
     "output_type": "stream",
     "text": [
      "Downloading and extracting:  37%|███████████████████▊                                  | 11/30 [08:22<11:15, 35.56s/it]"
     ]
    },
    {
     "name": "stdout",
     "output_type": "stream",
     "text": [
      "Successfully converted drug-event-0012-of-0030.json to CSV\n"
     ]
    },
    {
     "name": "stderr",
     "output_type": "stream",
     "text": [
      "Downloading and extracting:  40%|█████████████████████▌                                | 12/30 [09:30<13:34, 45.27s/it]"
     ]
    },
    {
     "name": "stdout",
     "output_type": "stream",
     "text": [
      "Successfully converted drug-event-0013-of-0030.json to CSV\n"
     ]
    },
    {
     "name": "stderr",
     "output_type": "stream",
     "text": [
      "Downloading and extracting:  43%|███████████████████████▍                              | 13/30 [09:39<09:41, 34.18s/it]"
     ]
    },
    {
     "name": "stdout",
     "output_type": "stream",
     "text": [
      "Successfully converted drug-event-0014-of-0030.json to CSV\n"
     ]
    },
    {
     "name": "stderr",
     "output_type": "stream",
     "text": [
      "Downloading and extracting:  47%|█████████████████████████▏                            | 14/30 [09:49<07:14, 27.15s/it]"
     ]
    },
    {
     "name": "stdout",
     "output_type": "stream",
     "text": [
      "Successfully converted drug-event-0015-of-0030.json to CSV\n"
     ]
    },
    {
     "name": "stderr",
     "output_type": "stream",
     "text": [
      "Downloading and extracting:  50%|███████████████████████████                           | 15/30 [09:57<05:17, 21.19s/it]"
     ]
    },
    {
     "name": "stdout",
     "output_type": "stream",
     "text": [
      "Successfully converted drug-event-0016-of-0030.json to CSV\n"
     ]
    },
    {
     "name": "stderr",
     "output_type": "stream",
     "text": [
      "Downloading and extracting:  53%|████████████████████████████▊                         | 16/30 [10:09<04:16, 18.36s/it]"
     ]
    },
    {
     "name": "stdout",
     "output_type": "stream",
     "text": [
      "Successfully converted drug-event-0017-of-0030.json to CSV\n"
     ]
    },
    {
     "name": "stderr",
     "output_type": "stream",
     "text": [
      "Downloading and extracting:  57%|██████████████████████████████▌                       | 17/30 [10:16<03:14, 14.97s/it]"
     ]
    },
    {
     "name": "stdout",
     "output_type": "stream",
     "text": [
      "Successfully converted drug-event-0018-of-0030.json to CSV\n"
     ]
    },
    {
     "name": "stderr",
     "output_type": "stream",
     "text": [
      "Downloading and extracting:  60%|████████████████████████████████▍                     | 18/30 [10:32<03:03, 15.33s/it]"
     ]
    },
    {
     "name": "stdout",
     "output_type": "stream",
     "text": [
      "Successfully converted drug-event-0019-of-0030.json to CSV\n"
     ]
    },
    {
     "name": "stderr",
     "output_type": "stream",
     "text": [
      "Downloading and extracting:  63%|██████████████████████████████████▏                   | 19/30 [10:50<02:58, 16.27s/it]"
     ]
    },
    {
     "name": "stdout",
     "output_type": "stream",
     "text": [
      "Successfully converted drug-event-0020-of-0030.json to CSV\n"
     ]
    },
    {
     "name": "stderr",
     "output_type": "stream",
     "text": [
      "Downloading and extracting:  67%|████████████████████████████████████                  | 20/30 [11:01<02:25, 14.54s/it]"
     ]
    },
    {
     "name": "stdout",
     "output_type": "stream",
     "text": [
      "Successfully converted drug-event-0021-of-0030.json to CSV\n"
     ]
    },
    {
     "name": "stderr",
     "output_type": "stream",
     "text": [
      "Downloading and extracting:  70%|█████████████████████████████████████▊                | 21/30 [11:15<02:08, 14.27s/it]"
     ]
    },
    {
     "name": "stdout",
     "output_type": "stream",
     "text": [
      "Successfully converted drug-event-0022-of-0030.json to CSV\n"
     ]
    },
    {
     "name": "stderr",
     "output_type": "stream",
     "text": [
      "Downloading and extracting:  73%|███████████████████████████████████████▌              | 22/30 [13:14<06:07, 45.93s/it]"
     ]
    },
    {
     "name": "stdout",
     "output_type": "stream",
     "text": [
      "Successfully converted drug-event-0023-of-0030.json to CSV\n"
     ]
    },
    {
     "name": "stderr",
     "output_type": "stream",
     "text": [
      "Downloading and extracting:  77%|█████████████████████████████████████████▍            | 23/30 [15:32<08:34, 73.44s/it]"
     ]
    },
    {
     "name": "stdout",
     "output_type": "stream",
     "text": [
      "Successfully converted drug-event-0024-of-0030.json to CSV\n"
     ]
    },
    {
     "name": "stderr",
     "output_type": "stream",
     "text": [
      "Downloading and extracting:  80%|███████████████████████████████████████████▏          | 24/30 [17:11<08:07, 81.17s/it]"
     ]
    },
    {
     "name": "stdout",
     "output_type": "stream",
     "text": [
      "Successfully converted drug-event-0025-of-0030.json to CSV\n"
     ]
    },
    {
     "name": "stderr",
     "output_type": "stream",
     "text": [
      "Downloading and extracting:  83%|█████████████████████████████████████████████         | 25/30 [18:34<06:48, 81.72s/it]"
     ]
    },
    {
     "name": "stdout",
     "output_type": "stream",
     "text": [
      "Successfully converted drug-event-0026-of-0030.json to CSV\n"
     ]
    },
    {
     "name": "stderr",
     "output_type": "stream",
     "text": [
      "Downloading and extracting:  87%|██████████████████████████████████████████████▊       | 26/30 [19:58<05:29, 82.33s/it]"
     ]
    },
    {
     "name": "stdout",
     "output_type": "stream",
     "text": [
      "Successfully converted drug-event-0027-of-0030.json to CSV\n"
     ]
    },
    {
     "name": "stderr",
     "output_type": "stream",
     "text": [
      "Downloading and extracting:  90%|████████████████████████████████████████████████▌     | 27/30 [21:40<04:24, 88.21s/it]"
     ]
    },
    {
     "name": "stdout",
     "output_type": "stream",
     "text": [
      "Successfully converted drug-event-0028-of-0030.json to CSV\n"
     ]
    },
    {
     "name": "stderr",
     "output_type": "stream",
     "text": [
      "Downloading and extracting:  93%|██████████████████████████████████████████████████▍   | 28/30 [23:03<02:53, 86.83s/it]"
     ]
    },
    {
     "name": "stdout",
     "output_type": "stream",
     "text": [
      "Successfully converted drug-event-0029-of-0030.json to CSV\n"
     ]
    },
    {
     "name": "stderr",
     "output_type": "stream",
     "text": [
      "Downloading and extracting:  97%|████████████████████████████████████████████████████▏ | 29/30 [24:06<01:19, 79.52s/it]"
     ]
    },
    {
     "name": "stdout",
     "output_type": "stream",
     "text": [
      "Successfully converted drug-event-0030-of-0030.json to CSV\n"
     ]
    },
    {
     "name": "stderr",
     "output_type": "stream",
     "text": [
      "Downloading and extracting: 100%|██████████████████████████████████████████████████████| 30/30 [24:56<00:00, 49.87s/it]\n"
     ]
    },
    {
     "name": "stdout",
     "output_type": "stream",
     "text": [
      "Completed processing 2024q1\n",
      "\n",
      "Processing 2024q2...\n"
     ]
    },
    {
     "name": "stderr",
     "output_type": "stream",
     "text": [
      "Downloading and extracting:   0%|                                                               | 0/31 [00:00<?, ?it/s]"
     ]
    },
    {
     "name": "stdout",
     "output_type": "stream",
     "text": [
      "Successfully converted drug-event-0001-of-0031.json to CSV\n"
     ]
    },
    {
     "name": "stderr",
     "output_type": "stream",
     "text": [
      "Downloading and extracting:   3%|█▊                                                     | 1/31 [00:28<14:23, 28.77s/it]"
     ]
    },
    {
     "name": "stdout",
     "output_type": "stream",
     "text": [
      "Successfully converted drug-event-0002-of-0031.json to CSV\n"
     ]
    },
    {
     "name": "stderr",
     "output_type": "stream",
     "text": [
      "Downloading and extracting:   6%|███▌                                                   | 2/31 [01:31<23:40, 48.97s/it]"
     ]
    },
    {
     "name": "stdout",
     "output_type": "stream",
     "text": [
      "Successfully converted drug-event-0003-of-0031.json to CSV\n"
     ]
    },
    {
     "name": "stderr",
     "output_type": "stream",
     "text": [
      "Downloading and extracting:  10%|█████▎                                                 | 3/31 [02:30<24:51, 53.25s/it]"
     ]
    },
    {
     "name": "stdout",
     "output_type": "stream",
     "text": [
      "Successfully converted drug-event-0004-of-0031.json to CSV\n"
     ]
    },
    {
     "name": "stderr",
     "output_type": "stream",
     "text": [
      "Downloading and extracting:  13%|███████                                                | 4/31 [02:56<19:13, 42.72s/it]"
     ]
    },
    {
     "name": "stdout",
     "output_type": "stream",
     "text": [
      "Successfully converted drug-event-0005-of-0031.json to CSV\n"
     ]
    },
    {
     "name": "stderr",
     "output_type": "stream",
     "text": [
      "Downloading and extracting:  16%|████████▊                                              | 5/31 [03:10<14:01, 32.35s/it]"
     ]
    },
    {
     "name": "stdout",
     "output_type": "stream",
     "text": [
      "Successfully converted drug-event-0006-of-0031.json to CSV\n"
     ]
    },
    {
     "name": "stderr",
     "output_type": "stream",
     "text": [
      "Downloading and extracting:  19%|██████████▋                                            | 6/31 [03:31<11:49, 28.39s/it]"
     ]
    },
    {
     "name": "stdout",
     "output_type": "stream",
     "text": [
      "Successfully converted drug-event-0007-of-0031.json to CSV\n"
     ]
    },
    {
     "name": "stderr",
     "output_type": "stream",
     "text": [
      "Downloading and extracting:  23%|████████████▍                                          | 7/31 [03:43<09:11, 22.98s/it]"
     ]
    },
    {
     "name": "stdout",
     "output_type": "stream",
     "text": [
      "Successfully converted drug-event-0008-of-0031.json to CSV\n"
     ]
    },
    {
     "name": "stderr",
     "output_type": "stream",
     "text": [
      "Downloading and extracting:  26%|██████████████▏                                        | 8/31 [03:51<07:01, 18.34s/it]"
     ]
    },
    {
     "name": "stdout",
     "output_type": "stream",
     "text": [
      "Successfully converted drug-event-0009-of-0031.json to CSV\n"
     ]
    },
    {
     "name": "stderr",
     "output_type": "stream",
     "text": [
      "Downloading and extracting:  29%|███████████████▉                                       | 9/31 [04:06<06:21, 17.33s/it]"
     ]
    },
    {
     "name": "stdout",
     "output_type": "stream",
     "text": [
      "Successfully converted drug-event-0010-of-0031.json to CSV\n"
     ]
    },
    {
     "name": "stderr",
     "output_type": "stream",
     "text": [
      "Downloading and extracting:  32%|█████████████████▍                                    | 10/31 [04:20<05:39, 16.19s/it]"
     ]
    },
    {
     "name": "stdout",
     "output_type": "stream",
     "text": [
      "Successfully converted drug-event-0011-of-0031.json to CSV\n"
     ]
    },
    {
     "name": "stderr",
     "output_type": "stream",
     "text": [
      "Downloading and extracting:  35%|███████████████████▏                                  | 11/31 [05:18<09:41, 29.09s/it]"
     ]
    },
    {
     "name": "stdout",
     "output_type": "stream",
     "text": [
      "Error processing drug-event-0012-of-0031.json.zip: HTTPSConnectionPool(host='download.open.fda.gov', port=443): Max retries exceeded with url: /drug/event/2024q2/drug-event-0012-of-0031.json.zip (Caused by NameResolutionError(\"<urllib3.connection.HTTPSConnection object at 0x000001C1BF6D2630>: Failed to resolve 'download.open.fda.gov' ([Errno 11001] getaddrinfo failed)\"))\n"
     ]
    },
    {
     "name": "stderr",
     "output_type": "stream",
     "text": [
      "Downloading and extracting:  39%|████████████████████▉                                 | 12/31 [05:31<07:40, 24.22s/it]"
     ]
    },
    {
     "name": "stdout",
     "output_type": "stream",
     "text": [
      "Error processing drug-event-0013-of-0031.json.zip: HTTPSConnectionPool(host='download.open.fda.gov', port=443): Max retries exceeded with url: /drug/event/2024q2/drug-event-0013-of-0031.json.zip (Caused by NameResolutionError(\"<urllib3.connection.HTTPSConnection object at 0x000001C1BF6D3920>: Failed to resolve 'download.open.fda.gov' ([Errno 11001] getaddrinfo failed)\"))\n"
     ]
    },
    {
     "name": "stderr",
     "output_type": "stream",
     "text": [
      "Downloading and extracting:  42%|██████████████████████▋                               | 13/31 [05:33<05:14, 17.50s/it]"
     ]
    },
    {
     "name": "stdout",
     "output_type": "stream",
     "text": [
      "Error processing drug-event-0014-of-0031.json.zip: HTTPSConnectionPool(host='download.open.fda.gov', port=443): Max retries exceeded with url: /drug/event/2024q2/drug-event-0014-of-0031.json.zip (Caused by NameResolutionError(\"<urllib3.connection.HTTPSConnection object at 0x000001C1BF6D2B40>: Failed to resolve 'download.open.fda.gov' ([Errno 11001] getaddrinfo failed)\"))\n"
     ]
    },
    {
     "name": "stderr",
     "output_type": "stream",
     "text": [
      "Downloading and extracting:  45%|████████████████████████▍                             | 14/31 [05:35<03:37, 12.82s/it]"
     ]
    },
    {
     "name": "stdout",
     "output_type": "stream",
     "text": [
      "Error processing drug-event-0015-of-0031.json.zip: HTTPSConnectionPool(host='download.open.fda.gov', port=443): Max retries exceeded with url: /drug/event/2024q2/drug-event-0015-of-0031.json.zip (Caused by NameResolutionError(\"<urllib3.connection.HTTPSConnection object at 0x000001C1BF6D2180>: Failed to resolve 'download.open.fda.gov' ([Errno 11001] getaddrinfo failed)\"))\n"
     ]
    },
    {
     "name": "stderr",
     "output_type": "stream",
     "text": [
      "Downloading and extracting:  48%|██████████████████████████▏                           | 15/31 [05:37<02:32,  9.56s/it]"
     ]
    },
    {
     "name": "stdout",
     "output_type": "stream",
     "text": [
      "Error processing drug-event-0016-of-0031.json.zip: HTTPSConnectionPool(host='download.open.fda.gov', port=443): Max retries exceeded with url: /drug/event/2024q2/drug-event-0016-of-0031.json.zip (Caused by NameResolutionError(\"<urllib3.connection.HTTPSConnection object at 0x000001C1BF6D1B20>: Failed to resolve 'download.open.fda.gov' ([Errno 11001] getaddrinfo failed)\"))\n"
     ]
    },
    {
     "name": "stderr",
     "output_type": "stream",
     "text": [
      "Downloading and extracting:  52%|███████████████████████████▊                          | 16/31 [05:39<01:49,  7.29s/it]"
     ]
    },
    {
     "name": "stdout",
     "output_type": "stream",
     "text": [
      "Error processing drug-event-0017-of-0031.json.zip: HTTPSConnectionPool(host='download.open.fda.gov', port=443): Max retries exceeded with url: /drug/event/2024q2/drug-event-0017-of-0031.json.zip (Caused by NameResolutionError(\"<urllib3.connection.HTTPSConnection object at 0x000001C1BF6D0860>: Failed to resolve 'download.open.fda.gov' ([Errno 11001] getaddrinfo failed)\"))\n"
     ]
    },
    {
     "name": "stderr",
     "output_type": "stream",
     "text": [
      "Downloading and extracting:  55%|█████████████████████████████▌                        | 17/31 [05:41<01:19,  5.70s/it]"
     ]
    },
    {
     "name": "stdout",
     "output_type": "stream",
     "text": [
      "Error processing drug-event-0018-of-0031.json.zip: HTTPSConnectionPool(host='download.open.fda.gov', port=443): Max retries exceeded with url: /drug/event/2024q2/drug-event-0018-of-0031.json.zip (Caused by NameResolutionError(\"<urllib3.connection.HTTPSConnection object at 0x000001C1BF6D27E0>: Failed to resolve 'download.open.fda.gov' ([Errno 11001] getaddrinfo failed)\"))\n"
     ]
    },
    {
     "name": "stderr",
     "output_type": "stream",
     "text": [
      "Downloading and extracting:  58%|███████████████████████████████▎                      | 18/31 [05:43<00:59,  4.59s/it]"
     ]
    },
    {
     "name": "stdout",
     "output_type": "stream",
     "text": [
      "Error processing drug-event-0019-of-0031.json.zip: HTTPSConnectionPool(host='download.open.fda.gov', port=443): Max retries exceeded with url: /drug/event/2024q2/drug-event-0019-of-0031.json.zip (Caused by NameResolutionError(\"<urllib3.connection.HTTPSConnection object at 0x000001C1BF6D2570>: Failed to resolve 'download.open.fda.gov' ([Errno 11001] getaddrinfo failed)\"))\n"
     ]
    },
    {
     "name": "stderr",
     "output_type": "stream",
     "text": [
      "Downloading and extracting:  61%|█████████████████████████████████                     | 19/31 [05:45<00:45,  3.81s/it]"
     ]
    },
    {
     "name": "stdout",
     "output_type": "stream",
     "text": [
      "Error processing drug-event-0020-of-0031.json.zip: ('Connection broken: IncompleteRead(2801664 bytes read, 11216638 more expected)', IncompleteRead(2801664 bytes read, 11216638 more expected))\n"
     ]
    },
    {
     "name": "stderr",
     "output_type": "stream",
     "text": [
      "Downloading and extracting:  65%|██████████████████████████████████▊                   | 20/31 [06:02<01:24,  7.70s/it]"
     ]
    },
    {
     "name": "stdout",
     "output_type": "stream",
     "text": [
      "Successfully converted drug-event-0021-of-0031.json to CSV\n"
     ]
    },
    {
     "name": "stderr",
     "output_type": "stream",
     "text": [
      "Downloading and extracting:  68%|████████████████████████████████████▌                 | 21/31 [06:26<02:05, 12.51s/it]"
     ]
    },
    {
     "name": "stdout",
     "output_type": "stream",
     "text": [
      "Successfully converted drug-event-0022-of-0031.json to CSV\n"
     ]
    },
    {
     "name": "stderr",
     "output_type": "stream",
     "text": [
      "Downloading and extracting:  71%|██████████████████████████████████████▎               | 22/31 [07:19<03:41, 24.64s/it]"
     ]
    },
    {
     "name": "stdout",
     "output_type": "stream",
     "text": [
      "Successfully converted drug-event-0023-of-0031.json to CSV\n"
     ]
    },
    {
     "name": "stderr",
     "output_type": "stream",
     "text": [
      "Downloading and extracting:  74%|████████████████████████████████████████              | 23/31 [08:49<05:55, 44.41s/it]"
     ]
    },
    {
     "name": "stdout",
     "output_type": "stream",
     "text": [
      "Successfully converted drug-event-0024-of-0031.json to CSV\n"
     ]
    },
    {
     "name": "stderr",
     "output_type": "stream",
     "text": [
      "Downloading and extracting:  77%|█████████████████████████████████████████▊            | 24/31 [11:02<08:16, 70.87s/it]"
     ]
    },
    {
     "name": "stdout",
     "output_type": "stream",
     "text": [
      "Successfully converted drug-event-0025-of-0031.json to CSV\n"
     ]
    },
    {
     "name": "stderr",
     "output_type": "stream",
     "text": [
      "Downloading and extracting:  81%|███████████████████████████████████████████▌          | 25/31 [11:56<06:34, 65.74s/it]"
     ]
    },
    {
     "name": "stdout",
     "output_type": "stream",
     "text": [
      "Successfully converted drug-event-0026-of-0031.json to CSV\n"
     ]
    },
    {
     "name": "stderr",
     "output_type": "stream",
     "text": [
      "Downloading and extracting:  84%|█████████████████████████████████████████████▎        | 26/31 [12:51<05:12, 62.50s/it]"
     ]
    },
    {
     "name": "stdout",
     "output_type": "stream",
     "text": [
      "Successfully converted drug-event-0027-of-0031.json to CSV\n"
     ]
    },
    {
     "name": "stderr",
     "output_type": "stream",
     "text": [
      "Downloading and extracting:  87%|███████████████████████████████████████████████       | 27/31 [14:05<04:24, 66.11s/it]"
     ]
    },
    {
     "name": "stdout",
     "output_type": "stream",
     "text": [
      "Successfully converted drug-event-0028-of-0031.json to CSV\n"
     ]
    },
    {
     "name": "stderr",
     "output_type": "stream",
     "text": [
      "Downloading and extracting:  90%|████████████████████████████████████████████████▊     | 28/31 [14:57<03:05, 61.95s/it]"
     ]
    },
    {
     "name": "stdout",
     "output_type": "stream",
     "text": [
      "Successfully converted drug-event-0029-of-0031.json to CSV\n"
     ]
    },
    {
     "name": "stderr",
     "output_type": "stream",
     "text": [
      "Downloading and extracting:  94%|██████████████████████████████████████████████████▌   | 29/31 [15:49<01:57, 58.82s/it]"
     ]
    },
    {
     "name": "stdout",
     "output_type": "stream",
     "text": [
      "Successfully converted drug-event-0030-of-0031.json to CSV\n"
     ]
    },
    {
     "name": "stderr",
     "output_type": "stream",
     "text": [
      "Downloading and extracting:  97%|████████████████████████████████████████████████████▎ | 30/31 [17:42<01:15, 75.12s/it]"
     ]
    },
    {
     "name": "stdout",
     "output_type": "stream",
     "text": [
      "Error processing drug-event-0031-of-0031.json.zip: ('Connection broken: IncompleteRead(7880704 bytes read, 102984293 more expected)', IncompleteRead(7880704 bytes read, 102984293 more expected))\n"
     ]
    },
    {
     "name": "stderr",
     "output_type": "stream",
     "text": [
      "Downloading and extracting: 100%|██████████████████████████████████████████████████████| 31/31 [17:49<00:00, 34.50s/it]\n"
     ]
    },
    {
     "name": "stdout",
     "output_type": "stream",
     "text": [
      "Completed processing 2024q2\n",
      "\n",
      "Processing 2024q3...\n"
     ]
    },
    {
     "name": "stderr",
     "output_type": "stream",
     "text": [
      "Downloading and extracting:   0%|                                                               | 0/34 [00:00<?, ?it/s]"
     ]
    },
    {
     "name": "stdout",
     "output_type": "stream",
     "text": [
      "Successfully converted drug-event-0001-of-0034.json to CSV\n"
     ]
    },
    {
     "name": "stderr",
     "output_type": "stream",
     "text": [
      "Downloading and extracting:   3%|█▌                                                     | 1/34 [00:47<25:57, 47.21s/it]"
     ]
    },
    {
     "name": "stdout",
     "output_type": "stream",
     "text": [
      "Successfully converted drug-event-0002-of-0034.json to CSV\n"
     ]
    },
    {
     "name": "stderr",
     "output_type": "stream",
     "text": [
      "Downloading and extracting:   6%|███▏                                                   | 2/34 [01:13<18:36, 34.89s/it]"
     ]
    },
    {
     "name": "stdout",
     "output_type": "stream",
     "text": [
      "Successfully converted drug-event-0003-of-0034.json to CSV\n"
     ]
    },
    {
     "name": "stderr",
     "output_type": "stream",
     "text": [
      "Downloading and extracting:   9%|████▊                                                  | 3/34 [01:51<18:43, 36.24s/it]"
     ]
    },
    {
     "name": "stdout",
     "output_type": "stream",
     "text": [
      "Successfully converted drug-event-0004-of-0034.json to CSV\n"
     ]
    },
    {
     "name": "stderr",
     "output_type": "stream",
     "text": [
      "Downloading and extracting:  12%|██████▍                                                | 4/34 [02:29<18:35, 37.18s/it]"
     ]
    },
    {
     "name": "stdout",
     "output_type": "stream",
     "text": [
      "Successfully converted drug-event-0005-of-0034.json to CSV\n"
     ]
    },
    {
     "name": "stderr",
     "output_type": "stream",
     "text": [
      "Downloading and extracting:  15%|████████                                               | 5/34 [03:47<25:00, 51.74s/it]"
     ]
    },
    {
     "name": "stdout",
     "output_type": "stream",
     "text": [
      "Successfully converted drug-event-0006-of-0034.json to CSV\n"
     ]
    },
    {
     "name": "stderr",
     "output_type": "stream",
     "text": [
      "Downloading and extracting:  18%|█████████▋                                             | 6/34 [04:51<26:05, 55.90s/it]"
     ]
    },
    {
     "name": "stdout",
     "output_type": "stream",
     "text": [
      "Successfully converted drug-event-0007-of-0034.json to CSV\n"
     ]
    },
    {
     "name": "stderr",
     "output_type": "stream",
     "text": [
      "Downloading and extracting:  21%|███████████▎                                           | 7/34 [05:21<21:21, 47.48s/it]"
     ]
    },
    {
     "name": "stdout",
     "output_type": "stream",
     "text": [
      "Successfully converted drug-event-0008-of-0034.json to CSV\n"
     ]
    },
    {
     "name": "stderr",
     "output_type": "stream",
     "text": [
      "Downloading and extracting:  24%|████████████▉                                          | 8/34 [05:48<17:43, 40.92s/it]"
     ]
    },
    {
     "name": "stdout",
     "output_type": "stream",
     "text": [
      "Successfully converted drug-event-0009-of-0034.json to CSV\n"
     ]
    },
    {
     "name": "stderr",
     "output_type": "stream",
     "text": [
      "Downloading and extracting:  26%|██████████████▌                                        | 9/34 [06:19<15:48, 37.96s/it]"
     ]
    },
    {
     "name": "stdout",
     "output_type": "stream",
     "text": [
      "Successfully converted drug-event-0010-of-0034.json to CSV\n"
     ]
    },
    {
     "name": "stderr",
     "output_type": "stream",
     "text": [
      "Downloading and extracting:  29%|███████████████▉                                      | 10/34 [06:50<14:15, 35.64s/it]"
     ]
    },
    {
     "name": "stdout",
     "output_type": "stream",
     "text": [
      "Successfully converted drug-event-0011-of-0034.json to CSV\n"
     ]
    },
    {
     "name": "stderr",
     "output_type": "stream",
     "text": [
      "Downloading and extracting:  32%|█████████████████▍                                    | 11/34 [07:16<12:33, 32.77s/it]"
     ]
    },
    {
     "name": "stdout",
     "output_type": "stream",
     "text": [
      "Successfully converted drug-event-0012-of-0034.json to CSV\n"
     ]
    },
    {
     "name": "stderr",
     "output_type": "stream",
     "text": [
      "Downloading and extracting:  35%|███████████████████                                   | 12/34 [07:48<11:53, 32.44s/it]"
     ]
    },
    {
     "name": "stdout",
     "output_type": "stream",
     "text": [
      "Successfully converted drug-event-0013-of-0034.json to CSV\n"
     ]
    },
    {
     "name": "stderr",
     "output_type": "stream",
     "text": [
      "Downloading and extracting:  38%|████████████████████▋                                 | 13/34 [08:16<10:56, 31.26s/it]"
     ]
    },
    {
     "name": "stdout",
     "output_type": "stream",
     "text": [
      "Successfully converted drug-event-0014-of-0034.json to CSV\n"
     ]
    },
    {
     "name": "stderr",
     "output_type": "stream",
     "text": [
      "Downloading and extracting:  41%|██████████████████████▏                               | 14/34 [08:45<10:09, 30.46s/it]"
     ]
    },
    {
     "name": "stdout",
     "output_type": "stream",
     "text": [
      "Successfully converted drug-event-0015-of-0034.json to CSV\n"
     ]
    },
    {
     "name": "stderr",
     "output_type": "stream",
     "text": [
      "Downloading and extracting:  44%|███████████████████████▊                              | 15/34 [09:10<09:08, 28.87s/it]"
     ]
    },
    {
     "name": "stdout",
     "output_type": "stream",
     "text": [
      "Successfully converted drug-event-0016-of-0034.json to CSV\n"
     ]
    },
    {
     "name": "stderr",
     "output_type": "stream",
     "text": [
      "Downloading and extracting:  47%|█████████████████████████▍                            | 16/34 [09:35<08:15, 27.51s/it]"
     ]
    },
    {
     "name": "stdout",
     "output_type": "stream",
     "text": [
      "Successfully converted drug-event-0017-of-0034.json to CSV\n"
     ]
    },
    {
     "name": "stderr",
     "output_type": "stream",
     "text": [
      "Downloading and extracting:  50%|███████████████████████████                           | 17/34 [10:01<07:43, 27.25s/it]"
     ]
    },
    {
     "name": "stdout",
     "output_type": "stream",
     "text": [
      "Successfully converted drug-event-0018-of-0034.json to CSV\n"
     ]
    },
    {
     "name": "stderr",
     "output_type": "stream",
     "text": [
      "Downloading and extracting:  53%|████████████████████████████▌                         | 18/34 [10:28<07:11, 26.98s/it]"
     ]
    },
    {
     "name": "stdout",
     "output_type": "stream",
     "text": [
      "Successfully converted drug-event-0019-of-0034.json to CSV\n"
     ]
    },
    {
     "name": "stderr",
     "output_type": "stream",
     "text": [
      "Downloading and extracting:  56%|██████████████████████████████▏                       | 19/34 [10:52<06:34, 26.31s/it]"
     ]
    },
    {
     "name": "stdout",
     "output_type": "stream",
     "text": [
      "Successfully converted drug-event-0020-of-0034.json to CSV\n"
     ]
    },
    {
     "name": "stderr",
     "output_type": "stream",
     "text": [
      "Downloading and extracting:  59%|███████████████████████████████▊                      | 20/34 [11:22<06:22, 27.34s/it]"
     ]
    },
    {
     "name": "stdout",
     "output_type": "stream",
     "text": [
      "Successfully converted drug-event-0021-of-0034.json to CSV\n"
     ]
    },
    {
     "name": "stderr",
     "output_type": "stream",
     "text": [
      "Downloading and extracting:  62%|█████████████████████████████████▎                    | 21/34 [11:51<06:02, 27.92s/it]"
     ]
    },
    {
     "name": "stdout",
     "output_type": "stream",
     "text": [
      "Successfully converted drug-event-0022-of-0034.json to CSV\n"
     ]
    },
    {
     "name": "stderr",
     "output_type": "stream",
     "text": [
      "Downloading and extracting:  65%|██████████████████████████████████▉                   | 22/34 [12:22<05:43, 28.63s/it]"
     ]
    },
    {
     "name": "stdout",
     "output_type": "stream",
     "text": [
      "Successfully converted drug-event-0023-of-0034.json to CSV\n"
     ]
    },
    {
     "name": "stderr",
     "output_type": "stream",
     "text": [
      "Downloading and extracting:  68%|████████████████████████████████████▌                 | 23/34 [12:51<05:17, 28.84s/it]"
     ]
    },
    {
     "name": "stdout",
     "output_type": "stream",
     "text": [
      "Successfully converted drug-event-0024-of-0034.json to CSV\n"
     ]
    },
    {
     "name": "stderr",
     "output_type": "stream",
     "text": [
      "Downloading and extracting:  71%|██████████████████████████████████████                | 24/34 [13:18<04:44, 28.42s/it]"
     ]
    },
    {
     "name": "stdout",
     "output_type": "stream",
     "text": [
      "Successfully converted drug-event-0025-of-0034.json to CSV\n"
     ]
    },
    {
     "name": "stderr",
     "output_type": "stream",
     "text": [
      "Downloading and extracting:  74%|███████████████████████████████████████▋              | 25/34 [13:48<04:19, 28.80s/it]"
     ]
    },
    {
     "name": "stdout",
     "output_type": "stream",
     "text": [
      "Successfully converted drug-event-0026-of-0034.json to CSV\n"
     ]
    },
    {
     "name": "stderr",
     "output_type": "stream",
     "text": [
      "Downloading and extracting:  76%|█████████████████████████████████████████▎            | 26/34 [14:16<03:49, 28.63s/it]"
     ]
    },
    {
     "name": "stdout",
     "output_type": "stream",
     "text": [
      "Successfully converted drug-event-0027-of-0034.json to CSV\n"
     ]
    },
    {
     "name": "stderr",
     "output_type": "stream",
     "text": [
      "Downloading and extracting:  79%|██████████████████████████████████████████▉           | 27/34 [14:42<03:13, 27.70s/it]"
     ]
    },
    {
     "name": "stdout",
     "output_type": "stream",
     "text": [
      "Successfully converted drug-event-0028-of-0034.json to CSV\n"
     ]
    },
    {
     "name": "stderr",
     "output_type": "stream",
     "text": [
      "Downloading and extracting:  82%|████████████████████████████████████████████▍         | 28/34 [15:09<02:45, 27.56s/it]"
     ]
    },
    {
     "name": "stdout",
     "output_type": "stream",
     "text": [
      "Successfully converted drug-event-0029-of-0034.json to CSV\n"
     ]
    },
    {
     "name": "stderr",
     "output_type": "stream",
     "text": [
      "Downloading and extracting:  85%|█████████████████████████████████████████████▏       | 29/34 [20:53<10:12, 122.40s/it]"
     ]
    },
    {
     "name": "stdout",
     "output_type": "stream",
     "text": [
      "Successfully converted drug-event-0030-of-0034.json to CSV\n"
     ]
    },
    {
     "name": "stderr",
     "output_type": "stream",
     "text": [
      "Downloading and extracting:  88%|███████████████████████████████████████████████▋      | 30/34 [21:19<06:14, 93.52s/it]"
     ]
    },
    {
     "name": "stdout",
     "output_type": "stream",
     "text": [
      "Successfully converted drug-event-0031-of-0034.json to CSV\n"
     ]
    },
    {
     "name": "stderr",
     "output_type": "stream",
     "text": [
      "Downloading and extracting:  91%|█████████████████████████████████████████████████▏    | 31/34 [21:44<03:39, 73.06s/it]"
     ]
    },
    {
     "name": "stdout",
     "output_type": "stream",
     "text": [
      "Successfully converted drug-event-0032-of-0034.json to CSV\n"
     ]
    },
    {
     "name": "stderr",
     "output_type": "stream",
     "text": [
      "Downloading and extracting:  94%|██████████████████████████████████████████████████▊   | 32/34 [22:10<01:57, 58.98s/it]"
     ]
    },
    {
     "name": "stdout",
     "output_type": "stream",
     "text": [
      "Successfully converted drug-event-0033-of-0034.json to CSV\n"
     ]
    },
    {
     "name": "stderr",
     "output_type": "stream",
     "text": [
      "Downloading and extracting:  97%|████████████████████████████████████████████████████▍ | 33/34 [22:35<00:48, 48.78s/it]"
     ]
    },
    {
     "name": "stdout",
     "output_type": "stream",
     "text": [
      "Successfully converted drug-event-0034-of-0034.json to CSV\n"
     ]
    },
    {
     "name": "stderr",
     "output_type": "stream",
     "text": [
      "Downloading and extracting: 100%|██████████████████████████████████████████████████████| 34/34 [22:58<00:00, 40.53s/it]"
     ]
    },
    {
     "name": "stdout",
     "output_type": "stream",
     "text": [
      "Completed processing 2024q3\n"
     ]
    },
    {
     "name": "stderr",
     "output_type": "stream",
     "text": [
      "\n"
     ]
    }
   ],
   "source": [
    "import os\n",
    "import requests\n",
    "import zipfile\n",
    "import time\n",
    "import json\n",
    "import pandas as pd\n",
    "from tqdm import tqdm\n",
    "\n",
    "# Configuration\n",
    "BASE_URL = \"https://download.open.fda.gov/drug/event/\"\n",
    "QUARTERS = {\n",
    "    \"2024q1\": list(f\"drug-event-{str(i+1).zfill(4)}-of-0030.json.zip\" for i in range(30)),\n",
    "    \"2024q2\": list(f\"drug-event-{str(i+1).zfill(4)}-of-0031.json.zip\" for i in range(31)),\n",
    "    \"2024q3\": list(f\"drug-event-{str(i+1).zfill(4)}-of-0034.json.zip\" for i in range(34))\n",
    "}\n",
    "\n",
    "def create_directory_structure():\n",
    "    \"\"\"Create the necessary directory structure for data organization\"\"\"\n",
    "    # Create base directories\n",
    "    os.makedirs(\"fda_data\", exist_ok=True)\n",
    "    os.makedirs(\"converted_data\", exist_ok=True)\n",
    "    \n",
    "    # Create quarter directories\n",
    "    for quarter in QUARTERS.keys():\n",
    "        os.makedirs(f\"fda_data/{quarter}\", exist_ok=True)\n",
    "        os.makedirs(f\"converted_data/{quarter}\", exist_ok=True)\n",
    "\n",
    "def download_and_extract_file(url, quarter, filename):\n",
    "    \"\"\"Download and extract a single FDA data file\"\"\"\n",
    "    local_zip_path = f\"fda_data/{quarter}/{filename}\"\n",
    "    \n",
    "    headers = {\n",
    "        'User-Agent': 'Mozilla/5.0 (Windows NT 10.0; Win64; x64) AppleWebKit/537.36',\n",
    "        'Accept': 'application/zip',\n",
    "        'Accept-Encoding': 'gzip, deflate, br',\n",
    "        'Connection': 'keep-alive'\n",
    "    }\n",
    "    \n",
    "    try:\n",
    "        response = requests.get(\n",
    "            url,\n",
    "            headers=headers,\n",
    "            stream=True,\n",
    "            allow_redirects=True,\n",
    "            timeout=60\n",
    "        )\n",
    "        \n",
    "        if response.status_code == 200:\n",
    "            # Save the zip file\n",
    "            with open(local_zip_path, \"wb\") as f:\n",
    "                for chunk in response.iter_content(chunk_size=8192):\n",
    "                    f.write(chunk)\n",
    "            \n",
    "            # Extract the file\n",
    "            with zipfile.ZipFile(local_zip_path, \"r\") as zip_ref:\n",
    "                zip_ref.extractall(f\"fda_data/{quarter}\")\n",
    "            \n",
    "            # Delete the zip file after extraction\n",
    "            os.remove(local_zip_path)\n",
    "            return True\n",
    "        else:\n",
    "            print(f\"Failed to download {url}. Status code: {response.status_code}\")\n",
    "            return False\n",
    "            \n",
    "    except Exception as e:\n",
    "        print(f\"Error processing {filename}: {str(e)}\")\n",
    "        if os.path.exists(local_zip_path):\n",
    "            os.remove(local_zip_path)\n",
    "        return False\n",
    "\n",
    "def flatten_dict(d, parent_key='', sep='_'):\n",
    "    \"\"\"Flatten nested dictionaries for CSV conversion\"\"\"\n",
    "    items = []\n",
    "    for k, v in d.items():\n",
    "        new_key = f\"{parent_key}{sep}{k}\" if parent_key else k\n",
    "        if isinstance(v, dict):\n",
    "            items.extend(flatten_dict(v, new_key, sep=sep).items())\n",
    "        elif isinstance(v, list):\n",
    "            if all(isinstance(x, (str, int, float)) for x in v):\n",
    "                items.append((new_key, ';'.join(str(x) for x in v)))\n",
    "            elif len(v) > 0 and isinstance(v[0], dict):\n",
    "                items.extend(flatten_dict(v[0], new_key, sep=sep).items())\n",
    "            else:\n",
    "                items.append((new_key, str(v)))\n",
    "        else:\n",
    "            items.append((new_key, v))\n",
    "    return dict(items)\n",
    "\n",
    "def process_json_to_csv(quarter, json_file):\n",
    "    \"\"\"Convert a JSON file to CSV format\"\"\"\n",
    "    input_path = f\"fda_data/{quarter}/{json_file}\"\n",
    "    output_path = f\"converted_data/{quarter}/{json_file.replace('.json', '.csv')}\"\n",
    "    \n",
    "    try:\n",
    "        with open(input_path, 'r') as f:\n",
    "            data = json.load(f)\n",
    "            \n",
    "        if 'results' in data:\n",
    "            records = []\n",
    "            for record in data['results']:\n",
    "                flat_record = flatten_dict(record)\n",
    "                records.append(flat_record)\n",
    "            \n",
    "            df = pd.DataFrame(records)\n",
    "            df = df.replace({None: pd.NA, \"\": pd.NA})\n",
    "            df.to_csv(output_path, index=False)\n",
    "            \n",
    "            print(f\"Successfully converted {json_file} to CSV\")\n",
    "            return True\n",
    "    except Exception as e:\n",
    "        print(f\"Error converting {json_file}: {str(e)}\")\n",
    "        return False\n",
    "\n",
    "def main():\n",
    "    \"\"\"Main execution function\"\"\"\n",
    "    create_directory_structure()\n",
    "    \n",
    "    for quarter, files in QUARTERS.items():\n",
    "        print(f\"\\nProcessing {quarter}...\")\n",
    "        \n",
    "        for file in tqdm(files, desc=\"Downloading and extracting\"):\n",
    "            file_url = f\"{BASE_URL}{quarter}/{file}\"\n",
    "            if download_and_extract_file(file_url, quarter, file):\n",
    "                # Get the JSON filename (remove .zip extension)\n",
    "                json_filename = file.replace('.zip', '')\n",
    "                # Process the JSON to CSV after successful download\n",
    "                process_json_to_csv(quarter, json_filename)\n",
    "                \n",
    "            # Add delay between requests to avoid overwhelming the server\n",
    "            time.sleep(2)\n",
    "            \n",
    "        print(f\"Completed processing {quarter}\")\n",
    "\n",
    "if __name__ == \"__main__\":\n",
    "    main()"
   ]
  },
  {
   "cell_type": "code",
   "execution_count": null,
   "id": "c212a29c-b4b6-4864-8929-1d31f7de2882",
   "metadata": {},
   "outputs": [],
   "source": []
  },
  {
   "cell_type": "code",
   "execution_count": null,
   "id": "c9ac2c3e-dd73-4bc0-b862-69466c23ef8f",
   "metadata": {},
   "outputs": [],
   "source": []
  }
 ],
 "metadata": {
  "kernelspec": {
   "display_name": "Python 3 (ipykernel)",
   "language": "python",
   "name": "python3"
  },
  "language_info": {
   "codemirror_mode": {
    "name": "ipython",
    "version": 3
   },
   "file_extension": ".py",
   "mimetype": "text/x-python",
   "name": "python",
   "nbconvert_exporter": "python",
   "pygments_lexer": "ipython3",
   "version": "3.12.7"
  }
 },
 "nbformat": 4,
 "nbformat_minor": 5
}
